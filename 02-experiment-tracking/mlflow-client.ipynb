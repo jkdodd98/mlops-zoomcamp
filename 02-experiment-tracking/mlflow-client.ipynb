{
 "cells": [
  {
   "cell_type": "code",
   "execution_count": 5,
   "metadata": {},
   "outputs": [],
   "source": [
    "from mlflow.tracking import MlflowClient"
   ]
  },
  {
   "cell_type": "code",
   "execution_count": 6,
   "metadata": {},
   "outputs": [],
   "source": [
    "MLFLOW_TRACKING_URI = \"sqlite:///mlflow.db\""
   ]
  },
  {
   "cell_type": "code",
   "execution_count": 7,
   "metadata": {},
   "outputs": [],
   "source": [
    "client = MlflowClient(tracking_uri=MLFLOW_TRACKING_URI)"
   ]
  },
  {
   "cell_type": "code",
   "execution_count": 8,
   "metadata": {},
   "outputs": [
    {
     "data": {
      "text/plain": [
       "[<Experiment: artifact_location='/Users/Jake/Olvin/dev/mlops-zoomcamp/02-experiment-tracking/mlruns/2', creation_time=1682610782427, experiment_id='2', last_update_time=1682610782427, lifecycle_stage='active', name='my-test-experiment', tags={}>,\n",
       " <Experiment: artifact_location='/Users/Jake/Olvin/dev/mlops-zoomcamp/02-experiment-tracking/mlruns/1', creation_time=1682585772380, experiment_id='1', last_update_time=1682585772380, lifecycle_stage='active', name='nyc-taxi-experiment', tags={}>]"
      ]
     },
     "execution_count": 8,
     "metadata": {},
     "output_type": "execute_result"
    }
   ],
   "source": [
    "client.search_experiments()"
   ]
  },
  {
   "cell_type": "code",
   "execution_count": 9,
   "metadata": {},
   "outputs": [
    {
     "ename": "MlflowException",
     "evalue": "Experiment(name=my-test-experiment) already exists. Error: (raised as a result of Query-invoked autoflush; consider using a session.no_autoflush block if this flush is occurring prematurely)\n(sqlite3.IntegrityError) UNIQUE constraint failed: experiments.name\n[SQL: INSERT INTO experiments (name, artifact_location, lifecycle_stage, creation_time, last_update_time) VALUES (?, ?, ?, ?, ?)]\n[parameters: ('my-test-experiment', None, 'active', 1682614351442, 1682614351442)]\n(Background on this error at: https://sqlalche.me/e/20/gkpj)",
     "output_type": "error",
     "traceback": [
      "\u001b[0;31m---------------------------------------------------------------------------\u001b[0m",
      "\u001b[0;31mIntegrityError\u001b[0m                            Traceback (most recent call last)",
      "File \u001b[0;32m~/Olvin/dev/mlops-zoomcamp/venv/lib/python3.11/site-packages/sqlalchemy/engine/base.py:1963\u001b[0m, in \u001b[0;36mConnection._exec_single_context\u001b[0;34m(self, dialect, context, statement, parameters)\u001b[0m\n\u001b[1;32m   1962\u001b[0m     \u001b[39mif\u001b[39;00m \u001b[39mnot\u001b[39;00m evt_handled:\n\u001b[0;32m-> 1963\u001b[0m         \u001b[39mself\u001b[39;49m\u001b[39m.\u001b[39;49mdialect\u001b[39m.\u001b[39;49mdo_execute(\n\u001b[1;32m   1964\u001b[0m             cursor, str_statement, effective_parameters, context\n\u001b[1;32m   1965\u001b[0m         )\n\u001b[1;32m   1967\u001b[0m \u001b[39mif\u001b[39;00m \u001b[39mself\u001b[39m\u001b[39m.\u001b[39m_has_events \u001b[39mor\u001b[39;00m \u001b[39mself\u001b[39m\u001b[39m.\u001b[39mengine\u001b[39m.\u001b[39m_has_events:\n",
      "File \u001b[0;32m~/Olvin/dev/mlops-zoomcamp/venv/lib/python3.11/site-packages/sqlalchemy/engine/default.py:920\u001b[0m, in \u001b[0;36mDefaultDialect.do_execute\u001b[0;34m(self, cursor, statement, parameters, context)\u001b[0m\n\u001b[1;32m    919\u001b[0m \u001b[39mdef\u001b[39;00m \u001b[39mdo_execute\u001b[39m(\u001b[39mself\u001b[39m, cursor, statement, parameters, context\u001b[39m=\u001b[39m\u001b[39mNone\u001b[39;00m):\n\u001b[0;32m--> 920\u001b[0m     cursor\u001b[39m.\u001b[39mexecute(statement, parameters)\n",
      "\u001b[0;31mIntegrityError\u001b[0m: UNIQUE constraint failed: experiments.name",
      "\nThe above exception was the direct cause of the following exception:\n",
      "\u001b[0;31mIntegrityError\u001b[0m                            Traceback (most recent call last)",
      "File \u001b[0;32m~/Olvin/dev/mlops-zoomcamp/venv/lib/python3.11/site-packages/mlflow/store/tracking/sqlalchemy_store.py:256\u001b[0m, in \u001b[0;36mSqlAlchemyStore.create_experiment\u001b[0;34m(self, name, artifact_location, tags)\u001b[0m\n\u001b[1;32m    254\u001b[0m \u001b[39mif\u001b[39;00m \u001b[39mnot\u001b[39;00m artifact_location:\n\u001b[1;32m    255\u001b[0m     \u001b[39m# this requires a double write. The first one to generate an autoincrement-ed ID\u001b[39;00m\n\u001b[0;32m--> 256\u001b[0m     eid \u001b[39m=\u001b[39m session\u001b[39m.\u001b[39;49mquery(SqlExperiment)\u001b[39m.\u001b[39;49mfilter_by(name\u001b[39m=\u001b[39;49mname)\u001b[39m.\u001b[39;49mfirst()\u001b[39m.\u001b[39mexperiment_id\n\u001b[1;32m    257\u001b[0m     experiment\u001b[39m.\u001b[39martifact_location \u001b[39m=\u001b[39m \u001b[39mself\u001b[39m\u001b[39m.\u001b[39m_get_artifact_location(eid)\n",
      "File \u001b[0;32m~/Olvin/dev/mlops-zoomcamp/venv/lib/python3.11/site-packages/sqlalchemy/orm/query.py:2743\u001b[0m, in \u001b[0;36mQuery.first\u001b[0;34m(self)\u001b[0m\n\u001b[1;32m   2742\u001b[0m \u001b[39melse\u001b[39;00m:\n\u001b[0;32m-> 2743\u001b[0m     \u001b[39mreturn\u001b[39;00m \u001b[39mself\u001b[39;49m\u001b[39m.\u001b[39;49mlimit(\u001b[39m1\u001b[39;49m)\u001b[39m.\u001b[39;49m_iter()\u001b[39m.\u001b[39mfirst()\n",
      "File \u001b[0;32m~/Olvin/dev/mlops-zoomcamp/venv/lib/python3.11/site-packages/sqlalchemy/orm/query.py:2842\u001b[0m, in \u001b[0;36mQuery._iter\u001b[0;34m(self)\u001b[0m\n\u001b[1;32m   2841\u001b[0m statement \u001b[39m=\u001b[39m \u001b[39mself\u001b[39m\u001b[39m.\u001b[39m_statement_20()\n\u001b[0;32m-> 2842\u001b[0m result: Union[ScalarResult[_T], Result[_T]] \u001b[39m=\u001b[39m \u001b[39mself\u001b[39;49m\u001b[39m.\u001b[39;49msession\u001b[39m.\u001b[39;49mexecute(\n\u001b[1;32m   2843\u001b[0m     statement,\n\u001b[1;32m   2844\u001b[0m     params,\n\u001b[1;32m   2845\u001b[0m     execution_options\u001b[39m=\u001b[39;49m{\u001b[39m\"\u001b[39;49m\u001b[39m_sa_orm_load_options\u001b[39;49m\u001b[39m\"\u001b[39;49m: \u001b[39mself\u001b[39;49m\u001b[39m.\u001b[39;49mload_options},\n\u001b[1;32m   2846\u001b[0m )\n\u001b[1;32m   2848\u001b[0m \u001b[39m# legacy: automatically set scalars, unique\u001b[39;00m\n",
      "File \u001b[0;32m~/Olvin/dev/mlops-zoomcamp/venv/lib/python3.11/site-packages/sqlalchemy/orm/session.py:2231\u001b[0m, in \u001b[0;36mSession.execute\u001b[0;34m(self, statement, params, execution_options, bind_arguments, _parent_execute_state, _add_event)\u001b[0m\n\u001b[1;32m   2180\u001b[0m \u001b[39m\u001b[39m\u001b[39mr\u001b[39m\u001b[39m\"\"\"Execute a SQL expression construct.\u001b[39;00m\n\u001b[1;32m   2181\u001b[0m \n\u001b[1;32m   2182\u001b[0m \u001b[39mReturns a :class:`_engine.Result` object representing\u001b[39;00m\n\u001b[0;32m   (...)\u001b[0m\n\u001b[1;32m   2229\u001b[0m \n\u001b[1;32m   2230\u001b[0m \u001b[39m\"\"\"\u001b[39;00m\n\u001b[0;32m-> 2231\u001b[0m \u001b[39mreturn\u001b[39;00m \u001b[39mself\u001b[39;49m\u001b[39m.\u001b[39;49m_execute_internal(\n\u001b[1;32m   2232\u001b[0m     statement,\n\u001b[1;32m   2233\u001b[0m     params,\n\u001b[1;32m   2234\u001b[0m     execution_options\u001b[39m=\u001b[39;49mexecution_options,\n\u001b[1;32m   2235\u001b[0m     bind_arguments\u001b[39m=\u001b[39;49mbind_arguments,\n\u001b[1;32m   2236\u001b[0m     _parent_execute_state\u001b[39m=\u001b[39;49m_parent_execute_state,\n\u001b[1;32m   2237\u001b[0m     _add_event\u001b[39m=\u001b[39;49m_add_event,\n\u001b[1;32m   2238\u001b[0m )\n",
      "File \u001b[0;32m~/Olvin/dev/mlops-zoomcamp/venv/lib/python3.11/site-packages/sqlalchemy/orm/session.py:2105\u001b[0m, in \u001b[0;36mSession._execute_internal\u001b[0;34m(self, statement, params, execution_options, bind_arguments, _parent_execute_state, _add_event, _scalar_result)\u001b[0m\n\u001b[1;32m   2096\u001b[0m \u001b[39mif\u001b[39;00m compile_state_cls \u001b[39mis\u001b[39;00m \u001b[39mnot\u001b[39;00m \u001b[39mNone\u001b[39;00m:\n\u001b[1;32m   2097\u001b[0m     \u001b[39m# now run orm_pre_session_exec() \"for real\".   if there were\u001b[39;00m\n\u001b[1;32m   2098\u001b[0m     \u001b[39m# event hooks, this will re-run the steps that interpret\u001b[39;00m\n\u001b[1;32m   2099\u001b[0m     \u001b[39m# new execution_options into load_options / update_delete_options,\u001b[39;00m\n\u001b[1;32m   2100\u001b[0m     \u001b[39m# which we assume the event hook might have updated.\u001b[39;00m\n\u001b[1;32m   2101\u001b[0m     \u001b[39m# autoflush will also be invoked in this step if enabled.\u001b[39;00m\n\u001b[1;32m   2102\u001b[0m     (\n\u001b[1;32m   2103\u001b[0m         statement,\n\u001b[1;32m   2104\u001b[0m         execution_options,\n\u001b[0;32m-> 2105\u001b[0m     ) \u001b[39m=\u001b[39m compile_state_cls\u001b[39m.\u001b[39;49morm_pre_session_exec(\n\u001b[1;32m   2106\u001b[0m         \u001b[39mself\u001b[39;49m,\n\u001b[1;32m   2107\u001b[0m         statement,\n\u001b[1;32m   2108\u001b[0m         params,\n\u001b[1;32m   2109\u001b[0m         execution_options,\n\u001b[1;32m   2110\u001b[0m         bind_arguments,\n\u001b[1;32m   2111\u001b[0m         \u001b[39mFalse\u001b[39;49;00m,\n\u001b[1;32m   2112\u001b[0m     )\n\u001b[1;32m   2114\u001b[0m bind \u001b[39m=\u001b[39m \u001b[39mself\u001b[39m\u001b[39m.\u001b[39mget_bind(\u001b[39m*\u001b[39m\u001b[39m*\u001b[39mbind_arguments)\n",
      "File \u001b[0;32m~/Olvin/dev/mlops-zoomcamp/venv/lib/python3.11/site-packages/sqlalchemy/orm/context.py:499\u001b[0m, in \u001b[0;36mORMCompileState.orm_pre_session_exec\u001b[0;34m(cls, session, statement, params, execution_options, bind_arguments, is_pre_event)\u001b[0m\n\u001b[1;32m    498\u001b[0m \u001b[39mif\u001b[39;00m \u001b[39mnot\u001b[39;00m is_pre_event \u001b[39mand\u001b[39;00m load_options\u001b[39m.\u001b[39m_autoflush:\n\u001b[0;32m--> 499\u001b[0m     session\u001b[39m.\u001b[39;49m_autoflush()\n\u001b[1;32m    501\u001b[0m \u001b[39mreturn\u001b[39;00m statement, execution_options\n",
      "File \u001b[0;32m~/Olvin/dev/mlops-zoomcamp/venv/lib/python3.11/site-packages/sqlalchemy/orm/session.py:2908\u001b[0m, in \u001b[0;36mSession._autoflush\u001b[0;34m(self)\u001b[0m\n\u001b[1;32m   2903\u001b[0m e\u001b[39m.\u001b[39madd_detail(\n\u001b[1;32m   2904\u001b[0m     \u001b[39m\"\u001b[39m\u001b[39mraised as a result of Query-invoked autoflush; \u001b[39m\u001b[39m\"\u001b[39m\n\u001b[1;32m   2905\u001b[0m     \u001b[39m\"\u001b[39m\u001b[39mconsider using a session.no_autoflush block if this \u001b[39m\u001b[39m\"\u001b[39m\n\u001b[1;32m   2906\u001b[0m     \u001b[39m\"\u001b[39m\u001b[39mflush is occurring prematurely\u001b[39m\u001b[39m\"\u001b[39m\n\u001b[1;32m   2907\u001b[0m )\n\u001b[0;32m-> 2908\u001b[0m \u001b[39mraise\u001b[39;00m e\u001b[39m.\u001b[39mwith_traceback(sys\u001b[39m.\u001b[39mexc_info()[\u001b[39m2\u001b[39m])\n",
      "File \u001b[0;32m~/Olvin/dev/mlops-zoomcamp/venv/lib/python3.11/site-packages/sqlalchemy/orm/session.py:2897\u001b[0m, in \u001b[0;36mSession._autoflush\u001b[0;34m(self)\u001b[0m\n\u001b[1;32m   2896\u001b[0m \u001b[39mtry\u001b[39;00m:\n\u001b[0;32m-> 2897\u001b[0m     \u001b[39mself\u001b[39;49m\u001b[39m.\u001b[39;49mflush()\n\u001b[1;32m   2898\u001b[0m \u001b[39mexcept\u001b[39;00m sa_exc\u001b[39m.\u001b[39mStatementError \u001b[39mas\u001b[39;00m e:\n\u001b[1;32m   2899\u001b[0m     \u001b[39m# note we are reraising StatementError as opposed to\u001b[39;00m\n\u001b[1;32m   2900\u001b[0m     \u001b[39m# raising FlushError with \"chaining\" to remain compatible\u001b[39;00m\n\u001b[1;32m   2901\u001b[0m     \u001b[39m# with code that catches StatementError, IntegrityError,\u001b[39;00m\n\u001b[1;32m   2902\u001b[0m     \u001b[39m# etc.\u001b[39;00m\n",
      "File \u001b[0;32m~/Olvin/dev/mlops-zoomcamp/venv/lib/python3.11/site-packages/sqlalchemy/orm/session.py:4153\u001b[0m, in \u001b[0;36mSession.flush\u001b[0;34m(self, objects)\u001b[0m\n\u001b[1;32m   4152\u001b[0m     \u001b[39mself\u001b[39m\u001b[39m.\u001b[39m_flushing \u001b[39m=\u001b[39m \u001b[39mTrue\u001b[39;00m\n\u001b[0;32m-> 4153\u001b[0m     \u001b[39mself\u001b[39;49m\u001b[39m.\u001b[39;49m_flush(objects)\n\u001b[1;32m   4154\u001b[0m \u001b[39mfinally\u001b[39;00m:\n",
      "File \u001b[0;32m~/Olvin/dev/mlops-zoomcamp/venv/lib/python3.11/site-packages/sqlalchemy/orm/session.py:4289\u001b[0m, in \u001b[0;36mSession._flush\u001b[0;34m(self, objects)\u001b[0m\n\u001b[1;32m   4288\u001b[0m \u001b[39mexcept\u001b[39;00m:\n\u001b[0;32m-> 4289\u001b[0m     \u001b[39mwith\u001b[39;49;00m util\u001b[39m.\u001b[39;49msafe_reraise():\n\u001b[1;32m   4290\u001b[0m         transaction\u001b[39m.\u001b[39;49mrollback(_capture_exception\u001b[39m=\u001b[39;49m\u001b[39mTrue\u001b[39;49;00m)\n",
      "File \u001b[0;32m~/Olvin/dev/mlops-zoomcamp/venv/lib/python3.11/site-packages/sqlalchemy/util/langhelpers.py:147\u001b[0m, in \u001b[0;36msafe_reraise.__exit__\u001b[0;34m(self, type_, value, traceback)\u001b[0m\n\u001b[1;32m    146\u001b[0m     \u001b[39mself\u001b[39m\u001b[39m.\u001b[39m_exc_info \u001b[39m=\u001b[39m \u001b[39mNone\u001b[39;00m  \u001b[39m# remove potential circular references\u001b[39;00m\n\u001b[0;32m--> 147\u001b[0m     \u001b[39mraise\u001b[39;00m exc_value\u001b[39m.\u001b[39mwith_traceback(exc_tb)\n\u001b[1;32m    148\u001b[0m \u001b[39melse\u001b[39;00m:\n",
      "File \u001b[0;32m~/Olvin/dev/mlops-zoomcamp/venv/lib/python3.11/site-packages/sqlalchemy/orm/session.py:4250\u001b[0m, in \u001b[0;36mSession._flush\u001b[0;34m(self, objects)\u001b[0m\n\u001b[1;32m   4249\u001b[0m \u001b[39mtry\u001b[39;00m:\n\u001b[0;32m-> 4250\u001b[0m     flush_context\u001b[39m.\u001b[39;49mexecute()\n\u001b[1;32m   4251\u001b[0m \u001b[39mfinally\u001b[39;00m:\n",
      "File \u001b[0;32m~/Olvin/dev/mlops-zoomcamp/venv/lib/python3.11/site-packages/sqlalchemy/orm/unitofwork.py:467\u001b[0m, in \u001b[0;36mUOWTransaction.execute\u001b[0;34m(self)\u001b[0m\n\u001b[1;32m    466\u001b[0m \u001b[39mfor\u001b[39;00m rec \u001b[39min\u001b[39;00m topological\u001b[39m.\u001b[39msort(\u001b[39mself\u001b[39m\u001b[39m.\u001b[39mdependencies, postsort_actions):\n\u001b[0;32m--> 467\u001b[0m     rec\u001b[39m.\u001b[39;49mexecute(\u001b[39mself\u001b[39;49m)\n",
      "File \u001b[0;32m~/Olvin/dev/mlops-zoomcamp/venv/lib/python3.11/site-packages/sqlalchemy/orm/unitofwork.py:644\u001b[0m, in \u001b[0;36mSaveUpdateAll.execute\u001b[0;34m(self, uow)\u001b[0m\n\u001b[1;32m    642\u001b[0m \u001b[39m@util\u001b[39m\u001b[39m.\u001b[39mpreload_module(\u001b[39m\"\u001b[39m\u001b[39msqlalchemy.orm.persistence\u001b[39m\u001b[39m\"\u001b[39m)\n\u001b[1;32m    643\u001b[0m \u001b[39mdef\u001b[39;00m \u001b[39mexecute\u001b[39m(\u001b[39mself\u001b[39m, uow):\n\u001b[0;32m--> 644\u001b[0m     util\u001b[39m.\u001b[39;49mpreloaded\u001b[39m.\u001b[39;49morm_persistence\u001b[39m.\u001b[39;49msave_obj(\n\u001b[1;32m    645\u001b[0m         \u001b[39mself\u001b[39;49m\u001b[39m.\u001b[39;49mmapper,\n\u001b[1;32m    646\u001b[0m         uow\u001b[39m.\u001b[39;49mstates_for_mapper_hierarchy(\u001b[39mself\u001b[39;49m\u001b[39m.\u001b[39;49mmapper, \u001b[39mFalse\u001b[39;49;00m, \u001b[39mFalse\u001b[39;49;00m),\n\u001b[1;32m    647\u001b[0m         uow,\n\u001b[1;32m    648\u001b[0m     )\n",
      "File \u001b[0;32m~/Olvin/dev/mlops-zoomcamp/venv/lib/python3.11/site-packages/sqlalchemy/orm/persistence.py:93\u001b[0m, in \u001b[0;36msave_obj\u001b[0;34m(base_mapper, states, uowtransaction, single)\u001b[0m\n\u001b[1;32m     85\u001b[0m     _emit_update_statements(\n\u001b[1;32m     86\u001b[0m         base_mapper,\n\u001b[1;32m     87\u001b[0m         uowtransaction,\n\u001b[0;32m   (...)\u001b[0m\n\u001b[1;32m     90\u001b[0m         update,\n\u001b[1;32m     91\u001b[0m     )\n\u001b[0;32m---> 93\u001b[0m     _emit_insert_statements(\n\u001b[1;32m     94\u001b[0m         base_mapper,\n\u001b[1;32m     95\u001b[0m         uowtransaction,\n\u001b[1;32m     96\u001b[0m         mapper,\n\u001b[1;32m     97\u001b[0m         table,\n\u001b[1;32m     98\u001b[0m         insert,\n\u001b[1;32m     99\u001b[0m     )\n\u001b[1;32m    101\u001b[0m _finalize_insert_update_commands(\n\u001b[1;32m    102\u001b[0m     base_mapper,\n\u001b[1;32m    103\u001b[0m     uowtransaction,\n\u001b[0;32m   (...)\u001b[0m\n\u001b[1;32m    119\u001b[0m     ),\n\u001b[1;32m    120\u001b[0m )\n",
      "File \u001b[0;32m~/Olvin/dev/mlops-zoomcamp/venv/lib/python3.11/site-packages/sqlalchemy/orm/persistence.py:1223\u001b[0m, in \u001b[0;36m_emit_insert_statements\u001b[0;34m(base_mapper, uowtransaction, mapper, table, insert, bookkeeping, use_orm_insert_stmt, execution_options)\u001b[0m\n\u001b[1;32m   1222\u001b[0m \u001b[39melse\u001b[39;00m:\n\u001b[0;32m-> 1223\u001b[0m     result \u001b[39m=\u001b[39m connection\u001b[39m.\u001b[39;49mexecute(\n\u001b[1;32m   1224\u001b[0m         statement,\n\u001b[1;32m   1225\u001b[0m         params,\n\u001b[1;32m   1226\u001b[0m         execution_options\u001b[39m=\u001b[39;49mexecution_options,\n\u001b[1;32m   1227\u001b[0m     )\n\u001b[1;32m   1229\u001b[0m primary_key \u001b[39m=\u001b[39m result\u001b[39m.\u001b[39minserted_primary_key\n",
      "File \u001b[0;32m~/Olvin/dev/mlops-zoomcamp/venv/lib/python3.11/site-packages/sqlalchemy/engine/base.py:1413\u001b[0m, in \u001b[0;36mConnection.execute\u001b[0;34m(self, statement, parameters, execution_options)\u001b[0m\n\u001b[1;32m   1412\u001b[0m \u001b[39melse\u001b[39;00m:\n\u001b[0;32m-> 1413\u001b[0m     \u001b[39mreturn\u001b[39;00m meth(\n\u001b[1;32m   1414\u001b[0m         \u001b[39mself\u001b[39;49m,\n\u001b[1;32m   1415\u001b[0m         distilled_parameters,\n\u001b[1;32m   1416\u001b[0m         execution_options \u001b[39mor\u001b[39;49;00m NO_OPTIONS,\n\u001b[1;32m   1417\u001b[0m     )\n",
      "File \u001b[0;32m~/Olvin/dev/mlops-zoomcamp/venv/lib/python3.11/site-packages/sqlalchemy/sql/elements.py:483\u001b[0m, in \u001b[0;36mClauseElement._execute_on_connection\u001b[0;34m(self, connection, distilled_params, execution_options)\u001b[0m\n\u001b[1;32m    482\u001b[0m         \u001b[39massert\u001b[39;00m \u001b[39misinstance\u001b[39m(\u001b[39mself\u001b[39m, Executable)\n\u001b[0;32m--> 483\u001b[0m     \u001b[39mreturn\u001b[39;00m connection\u001b[39m.\u001b[39;49m_execute_clauseelement(\n\u001b[1;32m    484\u001b[0m         \u001b[39mself\u001b[39;49m, distilled_params, execution_options\n\u001b[1;32m    485\u001b[0m     )\n\u001b[1;32m    486\u001b[0m \u001b[39melse\u001b[39;00m:\n",
      "File \u001b[0;32m~/Olvin/dev/mlops-zoomcamp/venv/lib/python3.11/site-packages/sqlalchemy/engine/base.py:1637\u001b[0m, in \u001b[0;36mConnection._execute_clauseelement\u001b[0;34m(self, elem, distilled_parameters, execution_options)\u001b[0m\n\u001b[1;32m   1629\u001b[0m compiled_sql, extracted_params, cache_hit \u001b[39m=\u001b[39m elem\u001b[39m.\u001b[39m_compile_w_cache(\n\u001b[1;32m   1630\u001b[0m     dialect\u001b[39m=\u001b[39mdialect,\n\u001b[1;32m   1631\u001b[0m     compiled_cache\u001b[39m=\u001b[39mcompiled_cache,\n\u001b[0;32m   (...)\u001b[0m\n\u001b[1;32m   1635\u001b[0m     linting\u001b[39m=\u001b[39m\u001b[39mself\u001b[39m\u001b[39m.\u001b[39mdialect\u001b[39m.\u001b[39mcompiler_linting \u001b[39m|\u001b[39m compiler\u001b[39m.\u001b[39mWARN_LINTING,\n\u001b[1;32m   1636\u001b[0m )\n\u001b[0;32m-> 1637\u001b[0m ret \u001b[39m=\u001b[39m \u001b[39mself\u001b[39;49m\u001b[39m.\u001b[39;49m_execute_context(\n\u001b[1;32m   1638\u001b[0m     dialect,\n\u001b[1;32m   1639\u001b[0m     dialect\u001b[39m.\u001b[39;49mexecution_ctx_cls\u001b[39m.\u001b[39;49m_init_compiled,\n\u001b[1;32m   1640\u001b[0m     compiled_sql,\n\u001b[1;32m   1641\u001b[0m     distilled_parameters,\n\u001b[1;32m   1642\u001b[0m     execution_options,\n\u001b[1;32m   1643\u001b[0m     compiled_sql,\n\u001b[1;32m   1644\u001b[0m     distilled_parameters,\n\u001b[1;32m   1645\u001b[0m     elem,\n\u001b[1;32m   1646\u001b[0m     extracted_params,\n\u001b[1;32m   1647\u001b[0m     cache_hit\u001b[39m=\u001b[39;49mcache_hit,\n\u001b[1;32m   1648\u001b[0m )\n\u001b[1;32m   1649\u001b[0m \u001b[39mif\u001b[39;00m has_events:\n",
      "File \u001b[0;32m~/Olvin/dev/mlops-zoomcamp/venv/lib/python3.11/site-packages/sqlalchemy/engine/base.py:1841\u001b[0m, in \u001b[0;36mConnection._execute_context\u001b[0;34m(self, dialect, constructor, statement, parameters, execution_options, *args, **kw)\u001b[0m\n\u001b[1;32m   1840\u001b[0m \u001b[39melse\u001b[39;00m:\n\u001b[0;32m-> 1841\u001b[0m     \u001b[39mreturn\u001b[39;00m \u001b[39mself\u001b[39;49m\u001b[39m.\u001b[39;49m_exec_single_context(\n\u001b[1;32m   1842\u001b[0m         dialect, context, statement, parameters\n\u001b[1;32m   1843\u001b[0m     )\n",
      "File \u001b[0;32m~/Olvin/dev/mlops-zoomcamp/venv/lib/python3.11/site-packages/sqlalchemy/engine/base.py:1982\u001b[0m, in \u001b[0;36mConnection._exec_single_context\u001b[0;34m(self, dialect, context, statement, parameters)\u001b[0m\n\u001b[1;32m   1981\u001b[0m \u001b[39mexcept\u001b[39;00m \u001b[39mBaseException\u001b[39;00m \u001b[39mas\u001b[39;00m e:\n\u001b[0;32m-> 1982\u001b[0m     \u001b[39mself\u001b[39;49m\u001b[39m.\u001b[39;49m_handle_dbapi_exception(\n\u001b[1;32m   1983\u001b[0m         e, str_statement, effective_parameters, cursor, context\n\u001b[1;32m   1984\u001b[0m     )\n\u001b[1;32m   1986\u001b[0m \u001b[39mreturn\u001b[39;00m result\n",
      "File \u001b[0;32m~/Olvin/dev/mlops-zoomcamp/venv/lib/python3.11/site-packages/sqlalchemy/engine/base.py:2339\u001b[0m, in \u001b[0;36mConnection._handle_dbapi_exception\u001b[0;34m(self, e, statement, parameters, cursor, context, is_sub_exec)\u001b[0m\n\u001b[1;32m   2338\u001b[0m     \u001b[39massert\u001b[39;00m sqlalchemy_exception \u001b[39mis\u001b[39;00m \u001b[39mnot\u001b[39;00m \u001b[39mNone\u001b[39;00m\n\u001b[0;32m-> 2339\u001b[0m     \u001b[39mraise\u001b[39;00m sqlalchemy_exception\u001b[39m.\u001b[39mwith_traceback(exc_info[\u001b[39m2\u001b[39m]) \u001b[39mfrom\u001b[39;00m \u001b[39me\u001b[39;00m\n\u001b[1;32m   2340\u001b[0m \u001b[39melse\u001b[39;00m:\n",
      "File \u001b[0;32m~/Olvin/dev/mlops-zoomcamp/venv/lib/python3.11/site-packages/sqlalchemy/engine/base.py:1963\u001b[0m, in \u001b[0;36mConnection._exec_single_context\u001b[0;34m(self, dialect, context, statement, parameters)\u001b[0m\n\u001b[1;32m   1962\u001b[0m     \u001b[39mif\u001b[39;00m \u001b[39mnot\u001b[39;00m evt_handled:\n\u001b[0;32m-> 1963\u001b[0m         \u001b[39mself\u001b[39;49m\u001b[39m.\u001b[39;49mdialect\u001b[39m.\u001b[39;49mdo_execute(\n\u001b[1;32m   1964\u001b[0m             cursor, str_statement, effective_parameters, context\n\u001b[1;32m   1965\u001b[0m         )\n\u001b[1;32m   1967\u001b[0m \u001b[39mif\u001b[39;00m \u001b[39mself\u001b[39m\u001b[39m.\u001b[39m_has_events \u001b[39mor\u001b[39;00m \u001b[39mself\u001b[39m\u001b[39m.\u001b[39mengine\u001b[39m.\u001b[39m_has_events:\n",
      "File \u001b[0;32m~/Olvin/dev/mlops-zoomcamp/venv/lib/python3.11/site-packages/sqlalchemy/engine/default.py:920\u001b[0m, in \u001b[0;36mDefaultDialect.do_execute\u001b[0;34m(self, cursor, statement, parameters, context)\u001b[0m\n\u001b[1;32m    919\u001b[0m \u001b[39mdef\u001b[39;00m \u001b[39mdo_execute\u001b[39m(\u001b[39mself\u001b[39m, cursor, statement, parameters, context\u001b[39m=\u001b[39m\u001b[39mNone\u001b[39;00m):\n\u001b[0;32m--> 920\u001b[0m     cursor\u001b[39m.\u001b[39mexecute(statement, parameters)\n",
      "\u001b[0;31mIntegrityError\u001b[0m: (raised as a result of Query-invoked autoflush; consider using a session.no_autoflush block if this flush is occurring prematurely)\n(sqlite3.IntegrityError) UNIQUE constraint failed: experiments.name\n[SQL: INSERT INTO experiments (name, artifact_location, lifecycle_stage, creation_time, last_update_time) VALUES (?, ?, ?, ?, ?)]\n[parameters: ('my-test-experiment', None, 'active', 1682614351442, 1682614351442)]\n(Background on this error at: https://sqlalche.me/e/20/gkpj)",
      "\nDuring handling of the above exception, another exception occurred:\n",
      "\u001b[0;31mMlflowException\u001b[0m                           Traceback (most recent call last)",
      "Cell \u001b[0;32mIn[9], line 1\u001b[0m\n\u001b[0;32m----> 1\u001b[0m client\u001b[39m.\u001b[39;49mcreate_experiment(\u001b[39m\"\u001b[39;49m\u001b[39mmy-test-experiment\u001b[39;49m\u001b[39m\"\u001b[39;49m)\n",
      "File \u001b[0;32m~/Olvin/dev/mlops-zoomcamp/venv/lib/python3.11/site-packages/mlflow/tracking/client.py:511\u001b[0m, in \u001b[0;36mMlflowClient.create_experiment\u001b[0;34m(self, name, artifact_location, tags)\u001b[0m\n\u001b[1;32m    463\u001b[0m \u001b[39mdef\u001b[39;00m \u001b[39mcreate_experiment\u001b[39m(\n\u001b[1;32m    464\u001b[0m     \u001b[39mself\u001b[39m,\n\u001b[1;32m    465\u001b[0m     name: \u001b[39mstr\u001b[39m,\n\u001b[1;32m    466\u001b[0m     artifact_location: Optional[\u001b[39mstr\u001b[39m] \u001b[39m=\u001b[39m \u001b[39mNone\u001b[39;00m,\n\u001b[1;32m    467\u001b[0m     tags: Optional[Dict[\u001b[39mstr\u001b[39m, Any]] \u001b[39m=\u001b[39m \u001b[39mNone\u001b[39;00m,\n\u001b[1;32m    468\u001b[0m ) \u001b[39m-\u001b[39m\u001b[39m>\u001b[39m \u001b[39mstr\u001b[39m:\n\u001b[1;32m    469\u001b[0m \u001b[39m    \u001b[39m\u001b[39m\"\"\"Create an experiment.\u001b[39;00m\n\u001b[1;32m    470\u001b[0m \n\u001b[1;32m    471\u001b[0m \u001b[39m    :param name: The experiment name. Must be unique.\u001b[39;00m\n\u001b[0;32m   (...)\u001b[0m\n\u001b[1;32m    509\u001b[0m \u001b[39m        Lifecycle_stage: active\u001b[39;00m\n\u001b[1;32m    510\u001b[0m \u001b[39m    \"\"\"\u001b[39;00m\n\u001b[0;32m--> 511\u001b[0m     \u001b[39mreturn\u001b[39;00m \u001b[39mself\u001b[39;49m\u001b[39m.\u001b[39;49m_tracking_client\u001b[39m.\u001b[39;49mcreate_experiment(name, artifact_location, tags)\n",
      "File \u001b[0;32m~/Olvin/dev/mlops-zoomcamp/venv/lib/python3.11/site-packages/mlflow/tracking/_tracking_service/client.py:234\u001b[0m, in \u001b[0;36mTrackingServiceClient.create_experiment\u001b[0;34m(self, name, artifact_location, tags)\u001b[0m\n\u001b[1;32m    223\u001b[0m \u001b[39m\u001b[39m\u001b[39m\"\"\"Create an experiment.\u001b[39;00m\n\u001b[1;32m    224\u001b[0m \n\u001b[1;32m    225\u001b[0m \u001b[39m:param name: The experiment name. Must be unique.\u001b[39;00m\n\u001b[0;32m   (...)\u001b[0m\n\u001b[1;32m    230\u001b[0m \u001b[39m:return: Integer ID of the created experiment.\u001b[39;00m\n\u001b[1;32m    231\u001b[0m \u001b[39m\"\"\"\u001b[39;00m\n\u001b[1;32m    232\u001b[0m _validate_experiment_artifact_location(artifact_location)\n\u001b[0;32m--> 234\u001b[0m \u001b[39mreturn\u001b[39;00m \u001b[39mself\u001b[39;49m\u001b[39m.\u001b[39;49mstore\u001b[39m.\u001b[39;49mcreate_experiment(\n\u001b[1;32m    235\u001b[0m     name\u001b[39m=\u001b[39;49mname,\n\u001b[1;32m    236\u001b[0m     artifact_location\u001b[39m=\u001b[39;49martifact_location,\n\u001b[1;32m    237\u001b[0m     tags\u001b[39m=\u001b[39;49m[ExperimentTag(key, value) \u001b[39mfor\u001b[39;49;00m (key, value) \u001b[39min\u001b[39;49;00m tags\u001b[39m.\u001b[39;49mitems()] \u001b[39mif\u001b[39;49;00m tags \u001b[39melse\u001b[39;49;00m [],\n\u001b[1;32m    238\u001b[0m )\n",
      "File \u001b[0;32m~/Olvin/dev/mlops-zoomcamp/venv/lib/python3.11/site-packages/mlflow/store/tracking/sqlalchemy_store.py:259\u001b[0m, in \u001b[0;36mSqlAlchemyStore.create_experiment\u001b[0;34m(self, name, artifact_location, tags)\u001b[0m\n\u001b[1;32m    257\u001b[0m         experiment\u001b[39m.\u001b[39martifact_location \u001b[39m=\u001b[39m \u001b[39mself\u001b[39m\u001b[39m.\u001b[39m_get_artifact_location(eid)\n\u001b[1;32m    258\u001b[0m \u001b[39mexcept\u001b[39;00m sqlalchemy\u001b[39m.\u001b[39mexc\u001b[39m.\u001b[39mIntegrityError \u001b[39mas\u001b[39;00m e:\n\u001b[0;32m--> 259\u001b[0m     \u001b[39mraise\u001b[39;00m MlflowException(\n\u001b[1;32m    260\u001b[0m         \u001b[39m\"\u001b[39m\u001b[39mExperiment(name=\u001b[39m\u001b[39m{}\u001b[39;00m\u001b[39m) already exists. Error: \u001b[39m\u001b[39m{}\u001b[39;00m\u001b[39m\"\u001b[39m\u001b[39m.\u001b[39mformat(name, \u001b[39mstr\u001b[39m(e)),\n\u001b[1;32m    261\u001b[0m         RESOURCE_ALREADY_EXISTS,\n\u001b[1;32m    262\u001b[0m     )\n\u001b[1;32m    264\u001b[0m session\u001b[39m.\u001b[39mflush()\n\u001b[1;32m    265\u001b[0m \u001b[39mreturn\u001b[39;00m \u001b[39mstr\u001b[39m(experiment\u001b[39m.\u001b[39mexperiment_id)\n",
      "\u001b[0;31mMlflowException\u001b[0m: Experiment(name=my-test-experiment) already exists. Error: (raised as a result of Query-invoked autoflush; consider using a session.no_autoflush block if this flush is occurring prematurely)\n(sqlite3.IntegrityError) UNIQUE constraint failed: experiments.name\n[SQL: INSERT INTO experiments (name, artifact_location, lifecycle_stage, creation_time, last_update_time) VALUES (?, ?, ?, ?, ?)]\n[parameters: ('my-test-experiment', None, 'active', 1682614351442, 1682614351442)]\n(Background on this error at: https://sqlalche.me/e/20/gkpj)"
     ]
    }
   ],
   "source": [
    "client.create_experiment(\"my-test-experiment\")"
   ]
  },
  {
   "cell_type": "code",
   "execution_count": null,
   "metadata": {},
   "outputs": [],
   "source": []
  },
  {
   "cell_type": "code",
   "execution_count": 13,
   "metadata": {},
   "outputs": [],
   "source": [
    "from mlflow.entities import ViewType\n",
    "\n",
    "runs = client.search_runs(\n",
    "    experiment_ids=\"1\",\n",
    "    filter_string=\"\",\n",
    "    run_view_type=ViewType.ACTIVE_ONLY,\n",
    "    max_results=5,\n",
    "    order_by=[\"metrics.rmse ASC\"]\n",
    ")"
   ]
  },
  {
   "cell_type": "code",
   "execution_count": 14,
   "metadata": {},
   "outputs": [
    {
     "name": "stdout",
     "output_type": "stream",
     "text": [
      "run id: 8cd4bd90c153414996e8f26aea4a875d, rmse = 5.7852\n",
      "run id: 6c29efb995de456691a402a9c2b3794b, rmse = 5.7852\n",
      "run id: 98ec9262ecee4df39e7f14b8d2d874c1, rmse = 5.7852\n",
      "run id: 9cdfff70fdf0430e8c546dcee236f1ea, rmse = 5.7946\n",
      "run id: 32564d13d26446a7b0b01320c24ff194, rmse = 5.8020\n"
     ]
    }
   ],
   "source": [
    "for run in runs:\n",
    "    print(f\"run id: {run.info.run_id}, rmse = {run.data.metrics['rmse']:.4f}\")"
   ]
  },
  {
   "cell_type": "code",
   "execution_count": 15,
   "metadata": {},
   "outputs": [],
   "source": [
    "model_name = \"nyc-taxi-regressor\""
   ]
  },
  {
   "cell_type": "code",
   "execution_count": 16,
   "metadata": {},
   "outputs": [],
   "source": [
    "import mlflow\n",
    "\n",
    "mlflow.set_tracking_uri(MLFLOW_TRACKING_URI)"
   ]
  },
  {
   "cell_type": "code",
   "execution_count": 17,
   "metadata": {},
   "outputs": [
    {
     "name": "stderr",
     "output_type": "stream",
     "text": [
      "Registered model 'nyc-taxi-regressor' already exists. Creating a new version of this model...\n",
      "2023/04/27 17:52:50 INFO mlflow.tracking._model_registry.client: Waiting up to 300 seconds for model version to finish creation. Model name: nyc-taxi-regressor, version 4\n",
      "Created version '4' of model 'nyc-taxi-regressor'.\n"
     ]
    },
    {
     "data": {
      "text/plain": [
       "<ModelVersion: aliases=[], creation_timestamp=1682614370245, current_stage='None', description=None, last_updated_timestamp=1682614370245, name='nyc-taxi-regressor', run_id='8cd4bd90c153414996e8f26aea4a875d', run_link=None, source='/Users/Jake/Olvin/dev/mlops-zoomcamp/02-experiment-tracking/mlruns/1/8cd4bd90c153414996e8f26aea4a875d/artifacts/model', status='READY', status_message=None, tags={}, user_id=None, version=4>"
      ]
     },
     "execution_count": 17,
     "metadata": {},
     "output_type": "execute_result"
    }
   ],
   "source": [
    "run_id = runs[0].info.run_id\n",
    "model_uri = f\"runs:/{run_id}/model\"\n",
    "mlflow.register_model(model_uri=model_uri, name=model_name)"
   ]
  },
  {
   "cell_type": "code",
   "execution_count": null,
   "metadata": {},
   "outputs": [],
   "source": []
  },
  {
   "cell_type": "code",
   "execution_count": 18,
   "metadata": {},
   "outputs": [
    {
     "name": "stdout",
     "output_type": "stream",
     "text": [
      "version: 3, stage: Staging\n",
      "version: 4, stage: None\n"
     ]
    }
   ],
   "source": [
    "latest_versions = client.get_latest_versions(name=model_name)\n",
    "\n",
    "for version in latest_versions:\n",
    "    print(f\"version: {version.version}, stage: {version.current_stage}\")"
   ]
  },
  {
   "cell_type": "code",
   "execution_count": 19,
   "metadata": {},
   "outputs": [
    {
     "data": {
      "text/plain": [
       "<ModelVersion: aliases=[], creation_timestamp=1682611733848, current_stage='Staging', description='The model version 3 was transitioned to Staging on 2023-04-27', last_updated_timestamp=1682614372461, name='nyc-taxi-regressor', run_id='8cd4bd90c153414996e8f26aea4a875d', run_link=None, source='/Users/Jake/Olvin/dev/mlops-zoomcamp/02-experiment-tracking/mlruns/1/8cd4bd90c153414996e8f26aea4a875d/artifacts/model', status='READY', status_message=None, tags={}, user_id=None, version=3>"
      ]
     },
     "execution_count": 19,
     "metadata": {},
     "output_type": "execute_result"
    }
   ],
   "source": [
    "model_version = 3\n",
    "model_stage = \"Staging\"\n",
    "\n",
    "client.transition_model_version_stage(\n",
    "    name=model_name,\n",
    "    version=model_version,\n",
    "    stage=model_stage,\n",
    "    archive_existing_versions=False\n",
    ")"
   ]
  },
  {
   "cell_type": "code",
   "execution_count": 20,
   "metadata": {},
   "outputs": [],
   "source": [
    "from datetime import datetime"
   ]
  },
  {
   "cell_type": "code",
   "execution_count": 21,
   "metadata": {},
   "outputs": [
    {
     "data": {
      "text/plain": [
       "<ModelVersion: aliases=[], creation_timestamp=1682611733848, current_stage='Staging', description='The model version 3 was transitioned to Staging on 2023-04-27', last_updated_timestamp=1682614374082, name='nyc-taxi-regressor', run_id='8cd4bd90c153414996e8f26aea4a875d', run_link=None, source='/Users/Jake/Olvin/dev/mlops-zoomcamp/02-experiment-tracking/mlruns/1/8cd4bd90c153414996e8f26aea4a875d/artifacts/model', status='READY', status_message=None, tags={}, user_id=None, version=3>"
      ]
     },
     "execution_count": 21,
     "metadata": {},
     "output_type": "execute_result"
    }
   ],
   "source": [
    "client.update_model_version(\n",
    "    name=model_name,\n",
    "    version=model_version,\n",
    "    description=f\"The model version {model_version} was transitioned to {model_stage} on {datetime.today().date()}\"\n",
    ")"
   ]
  },
  {
   "cell_type": "code",
   "execution_count": null,
   "metadata": {},
   "outputs": [],
   "source": []
  },
  {
   "cell_type": "code",
   "execution_count": 31,
   "metadata": {},
   "outputs": [],
   "source": [
    "from sklearn.metrics import mean_squared_error\n",
    "import pandas as pd\n",
    "\n",
    "\n",
    "def read_dataframe(filename):\n",
    "    df = pd.read_parquet(filename)\n",
    "    df['duration'] = (df.lpep_dropoff_datetime - df.lpep_pickup_datetime).dt.total_seconds() / 60\n",
    "    df = df[((df.duration >= 1) & (df.duration <= 60))]\n",
    "    categorical = ['PULocationID', 'DOLocationID']\n",
    "\n",
    "    df[categorical] = df[categorical].astype(str)\n",
    "\n",
    "    return df\n",
    "\n",
    "\n",
    "def preprocess(df, dv):\n",
    "    df['PU_DO'] = df['PULocationID'] + \"_\" + df['DOLocationID']\n",
    "    categorical = ['PU_DO']\n",
    "    numerical = ['trip_distance']\n",
    "    train_dicts = df[categorical + numerical].to_dict(orient=\"records\")\n",
    "    return dv.transform(train_dicts)\n",
    "\n",
    "\n",
    "def test_model(name, stage, X_test, y_test):\n",
    "    model = mlflow.pyfunc.load_model(f\"models:/{name}/{stage}\")\n",
    "    y_pred = model.predict(X_test)\n",
    "    return {\"rmse\": mean_squared_error(y_test, y_pred, squared=False)}"
   ]
  },
  {
   "cell_type": "code",
   "execution_count": 23,
   "metadata": {},
   "outputs": [],
   "source": [
    "df = read_dataframe(\"data/green_tripdata_2022-03.parquet\")"
   ]
  },
  {
   "cell_type": "code",
   "execution_count": 24,
   "metadata": {},
   "outputs": [
    {
     "name": "stderr",
     "output_type": "stream",
     "text": [
      "/var/folders/59/c0z2hyvn0bq2jktc5gbfxtdw0000gq/T/ipykernel_90255/2852634549.py:1: FutureWarning: ``mlflow.tracking.client.MlflowClient.download_artifacts`` is deprecated since 2.0. This method will be removed in a future release. Use ``mlflow.artifacts.download_artifacts`` instead.\n",
      "  client.download_artifacts(run_id=run_id, path='preprocessor', dst_path='.')\n"
     ]
    },
    {
     "data": {
      "text/plain": [
       "'/Users/Jake/Olvin/dev/mlops-zoomcamp/02-experiment-tracking/preprocessor'"
      ]
     },
     "execution_count": 24,
     "metadata": {},
     "output_type": "execute_result"
    }
   ],
   "source": [
    "client.download_artifacts(run_id=run_id, path='preprocessor', dst_path='.')"
   ]
  },
  {
   "cell_type": "code",
   "execution_count": 25,
   "metadata": {},
   "outputs": [],
   "source": [
    "import pickle\n",
    "\n",
    "with open(\"preprocessor/preprocessor.b\", \"rb\") as f_in:\n",
    "    dv = pickle.load(f_in)"
   ]
  },
  {
   "cell_type": "code",
   "execution_count": 26,
   "metadata": {},
   "outputs": [],
   "source": [
    "X_test = preprocess(df, dv)"
   ]
  },
  {
   "cell_type": "code",
   "execution_count": 27,
   "metadata": {},
   "outputs": [],
   "source": [
    "target = \"duration\"\n",
    "y_test = df[target].values"
   ]
  },
  {
   "cell_type": "code",
   "execution_count": null,
   "metadata": {},
   "outputs": [],
   "source": []
  },
  {
   "cell_type": "code",
   "execution_count": 32,
   "metadata": {},
   "outputs": [
    {
     "name": "stdout",
     "output_type": "stream",
     "text": [
      "[18:00:50] WARNING: /Users/runner/work/xgboost/xgboost/python-package/build/temp.macosx-10.9-x86_64-cpython-38/xgboost/src/objective/regression_obj.cu:213: reg:linear is now deprecated in favor of reg:squarederror.\n",
      "CPU times: user 4.99 s, sys: 61.3 ms, total: 5.06 s\n",
      "Wall time: 932 ms\n"
     ]
    },
    {
     "data": {
      "text/plain": [
       "{'rmse': 5.848923684655217}"
      ]
     },
     "execution_count": 32,
     "metadata": {},
     "output_type": "execute_result"
    }
   ],
   "source": [
    "%time test_model(name=model_name, stage=\"Production\", X_test=X_test, y_test=y_test)"
   ]
  },
  {
   "cell_type": "code",
   "execution_count": null,
   "metadata": {},
   "outputs": [],
   "source": []
  }
 ],
 "metadata": {
  "kernelspec": {
   "display_name": "venv",
   "language": "python",
   "name": "python3"
  },
  "language_info": {
   "codemirror_mode": {
    "name": "ipython",
    "version": 3
   },
   "file_extension": ".py",
   "mimetype": "text/x-python",
   "name": "python",
   "nbconvert_exporter": "python",
   "pygments_lexer": "ipython3",
   "version": "3.11.2"
  },
  "orig_nbformat": 4
 },
 "nbformat": 4,
 "nbformat_minor": 2
}
